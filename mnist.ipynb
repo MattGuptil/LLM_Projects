{
 "cells": [
  {
   "cell_type": "code",
   "execution_count": 3,
   "id": "7f061796-fbfd-409d-b6a7-b357f1568800",
   "metadata": {},
   "outputs": [],
   "source": [
    "# Cell 1: Imports\n",
    "import torch\n",
    "from torch import nn\n",
    "from torch.utils.data import DataLoader\n",
    "from torchvision import datasets\n",
    "from torchvision.transforms import ToTensor\n",
    "import matplotlib.pyplot as plt"
   ]
  },
  {
   "cell_type": "code",
   "execution_count": 4,
   "id": "9faf82ca-31e8-450a-b8ef-7585fefd2d4b",
   "metadata": {},
   "outputs": [
    {
     "name": "stdout",
     "output_type": "stream",
     "text": [
      "Using device: cuda\n"
     ]
    }
   ],
   "source": [
    "# Cell 2: Set device for RTX 3090\n",
    "device = torch.device(\"cuda\" if torch.cuda.is_available() else \"cpu\")\n",
    "print(f\"Using device: {device}\")"
   ]
  },
  {
   "cell_type": "code",
   "execution_count": 5,
   "id": "a437b745-719d-4bcc-9b62-20203009b1ce",
   "metadata": {},
   "outputs": [
    {
     "name": "stderr",
     "output_type": "stream",
     "text": [
      "100%|█████████████████████████████████████████████████████████████████████████████| 9.91M/9.91M [00:00<00:00, 25.5MB/s]\n",
      "100%|██████████████████████████████████████████████████████████████████████████████| 28.9k/28.9k [00:00<00:00, 932kB/s]\n",
      "100%|█████████████████████████████████████████████████████████████████████████████| 1.65M/1.65M [00:00<00:00, 7.94MB/s]\n",
      "100%|█████████████████████████████████████████████████████████████████████████████████████| 4.54k/4.54k [00:00<?, ?B/s]\n"
     ]
    }
   ],
   "source": [
    "# Cell 3: Load MNIST dataset\n",
    "training_data = datasets.MNIST(\n",
    "    root=\"data\",\n",
    "    train=True,\n",
    "    download=True,\n",
    "    transform=ToTensor()\n",
    ")\n",
    "test_data = datasets.MNIST(\n",
    "    root=\"data\",\n",
    "    train=False,\n",
    "    download=True,\n",
    "    transform=ToTensor()\n",
    ")\n",
    "train_dataloader = DataLoader(training_data, batch_size=64, shuffle=True)\n",
    "test_dataloader = DataLoader(test_data, batch_size=64, shuffle=False)"
   ]
  },
  {
   "cell_type": "code",
   "execution_count": 6,
   "id": "6a21d852-aef1-41fc-bcd9-c8f91663a91f",
   "metadata": {},
   "outputs": [
    {
     "name": "stdout",
     "output_type": "stream",
     "text": [
      "NeuralNetwork(\n",
      "  (flatten): Flatten(start_dim=1, end_dim=-1)\n",
      "  (linear_relu_stack): Sequential(\n",
      "    (0): Linear(in_features=784, out_features=512, bias=True)\n",
      "    (1): ReLU()\n",
      "    (2): Linear(in_features=512, out_features=512, bias=True)\n",
      "    (3): ReLU()\n",
      "    (4): Linear(in_features=512, out_features=10, bias=True)\n",
      "  )\n",
      ")\n"
     ]
    }
   ],
   "source": [
    "# Cell 4: Define neural network\n",
    "class NeuralNetwork(nn.Module):\n",
    "    def __init__(self):\n",
    "        super().__init__()\n",
    "        self.flatten = nn.Flatten()\n",
    "        self.linear_relu_stack = nn.Sequential(\n",
    "            nn.Linear(28*28, 512),\n",
    "            nn.ReLU(),\n",
    "            nn.Linear(512, 512),\n",
    "            nn.ReLU(),\n",
    "            nn.Linear(512, 10),\n",
    "        )\n",
    "    def forward(self, x):\n",
    "        x = self.flatten(x)\n",
    "        logits = self.linear_relu_stack(x)\n",
    "        return logits\n",
    "\n",
    "model = NeuralNetwork().to(device)\n",
    "print(model)"
   ]
  },
  {
   "cell_type": "code",
   "execution_count": 12,
   "id": "f7eb2eb3-1f71-4173-ae1e-513bda471831",
   "metadata": {},
   "outputs": [],
   "source": [
    "# Cell 5: Set loss and optimizer\n",
    "loss_fn = nn.CrossEntropyLoss()\n",
    "optimizer = torch.optim.Adam(model.parameters(), lr=1e-3)"
   ]
  },
  {
   "cell_type": "code",
   "execution_count": 8,
   "id": "19c58f77-918e-4176-87c4-b71f1b2811d7",
   "metadata": {},
   "outputs": [],
   "source": [
    "# Cell 6: Training function\n",
    "def train(dataloader, model, loss_fn, optimizer):\n",
    "    size = len(dataloader.dataset)\n",
    "    model.train()\n",
    "    for batch, (X, y) in enumerate(dataloader):\n",
    "        X, y = X.to(device), y.to(device)\n",
    "        pred = model(X)\n",
    "        loss = loss_fn(pred, y)\n",
    "        optimizer.zero_grad()\n",
    "        loss.backward()\n",
    "        optimizer.step()\n",
    "        if batch % 100 == 0:\n",
    "            loss, current = loss.item(), batch * len(X)\n",
    "            print(f\"loss: {loss:>7f}  [{current:>5d}/{size:>5d}]\")"
   ]
  },
  {
   "cell_type": "code",
   "execution_count": 9,
   "id": "a9fa724d-4e41-4287-89a7-c2ac7df36bc7",
   "metadata": {},
   "outputs": [],
   "source": [
    "# Cell 7: Testing function\n",
    "def test(dataloader, model, loss_fn):\n",
    "    size = len(dataloader.dataset)\n",
    "    num_batches = len(dataloader)\n",
    "    model.eval()\n",
    "    test_loss, correct = 0, 0\n",
    "    with torch.no_grad():\n",
    "        for X, y in dataloader:\n",
    "            X, y = X.to(device), y.to(device)\n",
    "            pred = model(X)\n",
    "            test_loss += loss_fn(pred, y).item()\n",
    "            correct += (pred.argmax(1) == y).type(torch.float).sum().item()\n",
    "    test_loss /= num_batches\n",
    "    correct /= size\n",
    "    print(f\"Test Error: \\n Accuracy: {(100*correct):>0.1f}%, Avg loss: {test_loss:>8f} \\n\")"
   ]
  },
  {
   "cell_type": "code",
   "execution_count": 13,
   "id": "5a39b877-f700-4e64-99d5-efb15a7c7a86",
   "metadata": {},
   "outputs": [
    {
     "name": "stdout",
     "output_type": "stream",
     "text": [
      "Epoch 1\n",
      "-------------------------------\n",
      "loss: 1.525807  [    0/60000]\n",
      "loss: 0.285705  [ 6400/60000]\n",
      "loss: 0.293069  [12800/60000]\n",
      "loss: 0.219062  [19200/60000]\n",
      "loss: 0.111555  [25600/60000]\n",
      "loss: 0.108816  [32000/60000]\n",
      "loss: 0.067624  [38400/60000]\n",
      "loss: 0.094229  [44800/60000]\n",
      "loss: 0.094860  [51200/60000]\n",
      "loss: 0.054134  [57600/60000]\n",
      "Test Error: \n",
      " Accuracy: 96.9%, Avg loss: 0.096183 \n",
      "\n",
      "Epoch 2\n",
      "-------------------------------\n",
      "loss: 0.116420  [    0/60000]\n",
      "loss: 0.041614  [ 6400/60000]\n",
      "loss: 0.010022  [12800/60000]\n",
      "loss: 0.045220  [19200/60000]\n",
      "loss: 0.106489  [25600/60000]\n",
      "loss: 0.042193  [32000/60000]\n",
      "loss: 0.179749  [38400/60000]\n",
      "loss: 0.025186  [44800/60000]\n",
      "loss: 0.060889  [51200/60000]\n",
      "loss: 0.051480  [57600/60000]\n",
      "Test Error: \n",
      " Accuracy: 97.3%, Avg loss: 0.085816 \n",
      "\n",
      "Epoch 3\n",
      "-------------------------------\n",
      "loss: 0.086285  [    0/60000]\n",
      "loss: 0.067953  [ 6400/60000]\n",
      "loss: 0.018865  [12800/60000]\n",
      "loss: 0.122583  [19200/60000]\n",
      "loss: 0.005598  [25600/60000]\n",
      "loss: 0.059390  [32000/60000]\n",
      "loss: 0.026554  [38400/60000]\n",
      "loss: 0.039067  [44800/60000]\n",
      "loss: 0.137031  [51200/60000]\n",
      "loss: 0.023656  [57600/60000]\n",
      "Test Error: \n",
      " Accuracy: 97.9%, Avg loss: 0.073379 \n",
      "\n",
      "Epoch 4\n",
      "-------------------------------\n",
      "loss: 0.006068  [    0/60000]\n",
      "loss: 0.052559  [ 6400/60000]\n",
      "loss: 0.140020  [12800/60000]\n",
      "loss: 0.108254  [19200/60000]\n",
      "loss: 0.043401  [25600/60000]\n",
      "loss: 0.101911  [32000/60000]\n",
      "loss: 0.022065  [38400/60000]\n",
      "loss: 0.035400  [44800/60000]\n",
      "loss: 0.090474  [51200/60000]\n",
      "loss: 0.009310  [57600/60000]\n",
      "Test Error: \n",
      " Accuracy: 97.5%, Avg loss: 0.082914 \n",
      "\n",
      "Epoch 5\n",
      "-------------------------------\n",
      "loss: 0.004028  [    0/60000]\n",
      "loss: 0.015678  [ 6400/60000]\n",
      "loss: 0.072414  [12800/60000]\n",
      "loss: 0.019635  [19200/60000]\n",
      "loss: 0.082021  [25600/60000]\n",
      "loss: 0.014262  [32000/60000]\n",
      "loss: 0.002396  [38400/60000]\n",
      "loss: 0.056991  [44800/60000]\n",
      "loss: 0.110058  [51200/60000]\n",
      "loss: 0.143109  [57600/60000]\n",
      "Test Error: \n",
      " Accuracy: 98.2%, Avg loss: 0.067246 \n",
      "\n",
      "Epoch 6\n",
      "-------------------------------\n",
      "loss: 0.003738  [    0/60000]\n",
      "loss: 0.001058  [ 6400/60000]\n",
      "loss: 0.017682  [12800/60000]\n",
      "loss: 0.004012  [19200/60000]\n",
      "loss: 0.003847  [25600/60000]\n",
      "loss: 0.025920  [32000/60000]\n",
      "loss: 0.116787  [38400/60000]\n",
      "loss: 0.002478  [44800/60000]\n",
      "loss: 0.005990  [51200/60000]\n",
      "loss: 0.046045  [57600/60000]\n",
      "Test Error: \n",
      " Accuracy: 97.7%, Avg loss: 0.088262 \n",
      "\n",
      "Epoch 7\n",
      "-------------------------------\n",
      "loss: 0.014179  [    0/60000]\n",
      "loss: 0.001571  [ 6400/60000]\n",
      "loss: 0.067636  [12800/60000]\n",
      "loss: 0.059287  [19200/60000]\n",
      "loss: 0.001067  [25600/60000]\n",
      "loss: 0.015197  [32000/60000]\n",
      "loss: 0.042376  [38400/60000]\n",
      "loss: 0.011044  [44800/60000]\n",
      "loss: 0.002700  [51200/60000]\n",
      "loss: 0.010423  [57600/60000]\n",
      "Test Error: \n",
      " Accuracy: 97.9%, Avg loss: 0.080281 \n",
      "\n",
      "Epoch 8\n",
      "-------------------------------\n",
      "loss: 0.011097  [    0/60000]\n",
      "loss: 0.011285  [ 6400/60000]\n",
      "loss: 0.103722  [12800/60000]\n",
      "loss: 0.010256  [19200/60000]\n",
      "loss: 0.004348  [25600/60000]\n",
      "loss: 0.034186  [32000/60000]\n",
      "loss: 0.002655  [38400/60000]\n",
      "loss: 0.000787  [44800/60000]\n",
      "loss: 0.004108  [51200/60000]\n",
      "loss: 0.000154  [57600/60000]\n",
      "Test Error: \n",
      " Accuracy: 98.0%, Avg loss: 0.074970 \n",
      "\n",
      "Epoch 9\n",
      "-------------------------------\n",
      "loss: 0.005693  [    0/60000]\n",
      "loss: 0.012141  [ 6400/60000]\n",
      "loss: 0.010901  [12800/60000]\n",
      "loss: 0.000873  [19200/60000]\n",
      "loss: 0.011269  [25600/60000]\n",
      "loss: 0.003214  [32000/60000]\n",
      "loss: 0.001591  [38400/60000]\n",
      "loss: 0.000497  [44800/60000]\n",
      "loss: 0.000641  [51200/60000]\n",
      "loss: 0.010937  [57600/60000]\n",
      "Test Error: \n",
      " Accuracy: 97.7%, Avg loss: 0.090296 \n",
      "\n",
      "Epoch 10\n",
      "-------------------------------\n",
      "loss: 0.099646  [    0/60000]\n",
      "loss: 0.002393  [ 6400/60000]\n",
      "loss: 0.003162  [12800/60000]\n",
      "loss: 0.000201  [19200/60000]\n",
      "loss: 0.008639  [25600/60000]\n",
      "loss: 0.000148  [32000/60000]\n",
      "loss: 0.032857  [38400/60000]\n",
      "loss: 0.000134  [44800/60000]\n",
      "loss: 0.000482  [51200/60000]\n",
      "loss: 0.000139  [57600/60000]\n",
      "Test Error: \n",
      " Accuracy: 98.1%, Avg loss: 0.090957 \n",
      "\n",
      "Done!\n"
     ]
    }
   ],
   "source": [
    "# Cell 8: Train and test for 5 epochs\n",
    "epochs = 10\n",
    "for t in range(epochs):\n",
    "    print(f\"Epoch {t+1}\\n-------------------------------\")\n",
    "    train(train_dataloader, model, loss_fn, optimizer)\n",
    "    test(test_dataloader, model, loss_fn)\n",
    "print(\"Done!\")"
   ]
  },
  {
   "cell_type": "code",
   "execution_count": 11,
   "id": "6dfb5b77-750e-4cbd-8025-c8a74e3b96dc",
   "metadata": {},
   "outputs": [
    {
     "name": "stdout",
     "output_type": "stream",
     "text": [
      "True\n",
      "NVIDIA GeForce RTX 3090\n"
     ]
    }
   ],
   "source": [
    "import torch\n",
    "print(torch.cuda.is_available())  # Should print True\n",
    "print(torch.cuda.get_device_name(0))"
   ]
  },
  {
   "cell_type": "code",
   "execution_count": null,
   "id": "8056887d-a8f7-4b77-9168-1979eb6a4218",
   "metadata": {},
   "outputs": [],
   "source": []
  }
 ],
 "metadata": {
  "kernelspec": {
   "display_name": "Python 3 (ipykernel)",
   "language": "python",
   "name": "python3"
  },
  "language_info": {
   "codemirror_mode": {
    "name": "ipython",
    "version": 3
   },
   "file_extension": ".py",
   "mimetype": "text/x-python",
   "name": "python",
   "nbconvert_exporter": "python",
   "pygments_lexer": "ipython3",
   "version": "3.11.9"
  }
 },
 "nbformat": 4,
 "nbformat_minor": 5
}
