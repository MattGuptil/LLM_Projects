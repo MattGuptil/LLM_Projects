{
 "cells": [
  {
   "cell_type": "code",
   "execution_count": 3,
   "id": "7f061796-fbfd-409d-b6a7-b357f1568800",
   "metadata": {},
   "outputs": [],
   "source": [
    "# Cell 1: Imports\n",
    "import torch\n",
    "from torch import nn\n",
    "from torch.utils.data import DataLoader\n",
    "from torchvision import datasets\n",
    "from torchvision.transforms import ToTensor\n",
    "import matplotlib.pyplot as plt"
   ]
  },
  {
   "cell_type": "code",
   "execution_count": 4,
   "id": "9faf82ca-31e8-450a-b8ef-7585fefd2d4b",
   "metadata": {},
   "outputs": [
    {
     "name": "stdout",
     "output_type": "stream",
     "text": [
      "Using device: cuda\n"
     ]
    }
   ],
   "source": [
    "# Cell 2: Set device for RTX 3090\n",
    "device = torch.device(\"cuda\" if torch.cuda.is_available() else \"cpu\")\n",
    "print(f\"Using device: {device}\")"
   ]
  },
  {
   "cell_type": "code",
   "execution_count": 5,
   "id": "a437b745-719d-4bcc-9b62-20203009b1ce",
   "metadata": {},
   "outputs": [
    {
     "name": "stderr",
     "output_type": "stream",
     "text": [
      "100%|█████████████████████████████████████████████████████████████████████████████| 9.91M/9.91M [00:00<00:00, 25.5MB/s]\n",
      "100%|██████████████████████████████████████████████████████████████████████████████| 28.9k/28.9k [00:00<00:00, 932kB/s]\n",
      "100%|█████████████████████████████████████████████████████████████████████████████| 1.65M/1.65M [00:00<00:00, 7.94MB/s]\n",
      "100%|█████████████████████████████████████████████████████████████████████████████████████| 4.54k/4.54k [00:00<?, ?B/s]\n"
     ]
    }
   ],
   "source": [
    "# Cell 3: Load MNIST dataset\n",
    "training_data = datasets.MNIST(\n",
    "    root=\"data\",\n",
    "    train=True,\n",
    "    download=True,\n",
    "    transform=ToTensor()\n",
    ")\n",
    "test_data = datasets.MNIST(\n",
    "    root=\"data\",\n",
    "    train=False,\n",
    "    download=True,\n",
    "    transform=ToTensor()\n",
    ")\n",
    "train_dataloader = DataLoader(training_data, batch_size=64, shuffle=True)\n",
    "test_dataloader = DataLoader(test_data, batch_size=64, shuffle=False)"
   ]
  },
  {
   "cell_type": "code",
   "execution_count": 6,
   "id": "6a21d852-aef1-41fc-bcd9-c8f91663a91f",
   "metadata": {},
   "outputs": [
    {
     "name": "stdout",
     "output_type": "stream",
     "text": [
      "NeuralNetwork(\n",
      "  (flatten): Flatten(start_dim=1, end_dim=-1)\n",
      "  (linear_relu_stack): Sequential(\n",
      "    (0): Linear(in_features=784, out_features=512, bias=True)\n",
      "    (1): ReLU()\n",
      "    (2): Linear(in_features=512, out_features=512, bias=True)\n",
      "    (3): ReLU()\n",
      "    (4): Linear(in_features=512, out_features=10, bias=True)\n",
      "  )\n",
      ")\n"
     ]
    }
   ],
   "source": [
    "# Cell 4: Define neural network\n",
    "class NeuralNetwork(nn.Module):\n",
    "    def __init__(self):\n",
    "        super().__init__()\n",
    "        self.flatten = nn.Flatten()\n",
    "        self.linear_relu_stack = nn.Sequential(\n",
    "            nn.Linear(28*28, 512),\n",
    "            nn.ReLU(),\n",
    "            nn.Linear(512, 512),\n",
    "            nn.ReLU(),\n",
    "            nn.Linear(512, 10),\n",
    "        )\n",
    "    def forward(self, x):\n",
    "        x = self.flatten(x)\n",
    "        logits = self.linear_relu_stack(x)\n",
    "        return logits\n",
    "\n",
    "model = NeuralNetwork().to(device)\n",
    "print(model)"
   ]
  },
  {
   "cell_type": "code",
   "execution_count": 7,
   "id": "f7eb2eb3-1f71-4173-ae1e-513bda471831",
   "metadata": {},
   "outputs": [],
   "source": [
    "# Cell 5: Set loss and optimizer\n",
    "loss_fn = nn.CrossEntropyLoss()\n",
    "optimizer = torch.optim.SGD(model.parameters(), lr=1e-3)"
   ]
  },
  {
   "cell_type": "code",
   "execution_count": 8,
   "id": "19c58f77-918e-4176-87c4-b71f1b2811d7",
   "metadata": {},
   "outputs": [],
   "source": [
    "# Cell 6: Training function\n",
    "def train(dataloader, model, loss_fn, optimizer):\n",
    "    size = len(dataloader.dataset)\n",
    "    model.train()\n",
    "    for batch, (X, y) in enumerate(dataloader):\n",
    "        X, y = X.to(device), y.to(device)\n",
    "        pred = model(X)\n",
    "        loss = loss_fn(pred, y)\n",
    "        optimizer.zero_grad()\n",
    "        loss.backward()\n",
    "        optimizer.step()\n",
    "        if batch % 100 == 0:\n",
    "            loss, current = loss.item(), batch * len(X)\n",
    "            print(f\"loss: {loss:>7f}  [{current:>5d}/{size:>5d}]\")"
   ]
  },
  {
   "cell_type": "code",
   "execution_count": 9,
   "id": "a9fa724d-4e41-4287-89a7-c2ac7df36bc7",
   "metadata": {},
   "outputs": [],
   "source": [
    "# Cell 7: Testing function\n",
    "def test(dataloader, model, loss_fn):\n",
    "    size = len(dataloader.dataset)\n",
    "    num_batches = len(dataloader)\n",
    "    model.eval()\n",
    "    test_loss, correct = 0, 0\n",
    "    with torch.no_grad():\n",
    "        for X, y in dataloader:\n",
    "            X, y = X.to(device), y.to(device)\n",
    "            pred = model(X)\n",
    "            test_loss += loss_fn(pred, y).item()\n",
    "            correct += (pred.argmax(1) == y).type(torch.float).sum().item()\n",
    "    test_loss /= num_batches\n",
    "    correct /= size\n",
    "    print(f\"Test Error: \\n Accuracy: {(100*correct):>0.1f}%, Avg loss: {test_loss:>8f} \\n\")"
   ]
  },
  {
   "cell_type": "code",
   "execution_count": 10,
   "id": "5a39b877-f700-4e64-99d5-efb15a7c7a86",
   "metadata": {},
   "outputs": [
    {
     "name": "stdout",
     "output_type": "stream",
     "text": [
      "Epoch 1\n",
      "-------------------------------\n",
      "loss: 2.295664  [    0/60000]\n",
      "loss: 2.304940  [ 6400/60000]\n",
      "loss: 2.297551  [12800/60000]\n",
      "loss: 2.290530  [19200/60000]\n",
      "loss: 2.284850  [25600/60000]\n",
      "loss: 2.279604  [32000/60000]\n",
      "loss: 2.269102  [38400/60000]\n",
      "loss: 2.270268  [44800/60000]\n",
      "loss: 2.250646  [51200/60000]\n",
      "loss: 2.259140  [57600/60000]\n",
      "Test Error: \n",
      " Accuracy: 44.8%, Avg loss: 2.252028 \n",
      "\n",
      "Epoch 2\n",
      "-------------------------------\n",
      "loss: 2.258327  [    0/60000]\n",
      "loss: 2.259088  [ 6400/60000]\n",
      "loss: 2.238992  [12800/60000]\n",
      "loss: 2.239108  [19200/60000]\n",
      "loss: 2.245208  [25600/60000]\n",
      "loss: 2.226885  [32000/60000]\n",
      "loss: 2.197642  [38400/60000]\n",
      "loss: 2.208831  [44800/60000]\n",
      "loss: 2.202189  [51200/60000]\n",
      "loss: 2.188509  [57600/60000]\n",
      "Test Error: \n",
      " Accuracy: 55.5%, Avg loss: 2.180505 \n",
      "\n",
      "Epoch 3\n",
      "-------------------------------\n",
      "loss: 2.183812  [    0/60000]\n",
      "loss: 2.155594  [ 6400/60000]\n",
      "loss: 2.160097  [12800/60000]\n",
      "loss: 2.141355  [19200/60000]\n",
      "loss: 2.162386  [25600/60000]\n",
      "loss: 2.130263  [32000/60000]\n",
      "loss: 2.125026  [38400/60000]\n",
      "loss: 2.103121  [44800/60000]\n",
      "loss: 2.055202  [51200/60000]\n",
      "loss: 2.080563  [57600/60000]\n",
      "Test Error: \n",
      " Accuracy: 63.1%, Avg loss: 2.058825 \n",
      "\n",
      "Epoch 4\n",
      "-------------------------------\n",
      "loss: 2.108401  [    0/60000]\n",
      "loss: 2.048997  [ 6400/60000]\n",
      "loss: 2.024088  [12800/60000]\n",
      "loss: 1.997948  [19200/60000]\n",
      "loss: 1.957274  [25600/60000]\n",
      "loss: 1.954367  [32000/60000]\n",
      "loss: 1.937344  [38400/60000]\n",
      "loss: 1.910923  [44800/60000]\n",
      "loss: 1.862731  [51200/60000]\n",
      "loss: 1.870908  [57600/60000]\n",
      "Test Error: \n",
      " Accuracy: 68.0%, Avg loss: 1.849178 \n",
      "\n",
      "Epoch 5\n",
      "-------------------------------\n",
      "loss: 1.830158  [    0/60000]\n",
      "loss: 1.890251  [ 6400/60000]\n",
      "loss: 1.795051  [12800/60000]\n",
      "loss: 1.753826  [19200/60000]\n",
      "loss: 1.807323  [25600/60000]\n",
      "loss: 1.722099  [32000/60000]\n",
      "loss: 1.703147  [38400/60000]\n",
      "loss: 1.609970  [44800/60000]\n",
      "loss: 1.623463  [51200/60000]\n",
      "loss: 1.569519  [57600/60000]\n",
      "Test Error: \n",
      " Accuracy: 72.5%, Avg loss: 1.542880 \n",
      "\n",
      "Done!\n"
     ]
    }
   ],
   "source": [
    "# Cell 8: Train and test for 5 epochs\n",
    "epochs = 5\n",
    "for t in range(epochs):\n",
    "    print(f\"Epoch {t+1}\\n-------------------------------\")\n",
    "    train(train_dataloader, model, loss_fn, optimizer)\n",
    "    test(test_dataloader, model, loss_fn)\n",
    "print(\"Done!\")"
   ]
  },
  {
   "cell_type": "code",
   "execution_count": null,
   "id": "6dfb5b77-750e-4cbd-8025-c8a74e3b96dc",
   "metadata": {},
   "outputs": [],
   "source": []
  }
 ],
 "metadata": {
  "kernelspec": {
   "display_name": "Python 3 (ipykernel)",
   "language": "python",
   "name": "python3"
  },
  "language_info": {
   "codemirror_mode": {
    "name": "ipython",
    "version": 3
   },
   "file_extension": ".py",
   "mimetype": "text/x-python",
   "name": "python",
   "nbconvert_exporter": "python",
   "pygments_lexer": "ipython3",
   "version": "3.11.9"
  }
 },
 "nbformat": 4,
 "nbformat_minor": 5
}
